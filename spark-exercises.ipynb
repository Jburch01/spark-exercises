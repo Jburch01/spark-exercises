{
 "cells": [
  {
   "cell_type": "markdown",
   "id": "d828a2f8",
   "metadata": {},
   "source": [
    "<div style='background-color : lightgreen'>\n",
    "    <a id='TableOfContents'></a>\n",
    "    <h1 style='text-align : center; padding-top: 20px; font-family: cursive;'>\n",
    "        Table of Contents\n",
    "    </h1>\n",
    "    <ul style='list-style-type:none; display: flex; justify-content: center; margin-bottom: 30px;padding-left: 250px;'>\n",
    "        <li style='margin-right: 20px;'><a href='#imports'>Imports</a></li>\n",
    "        <li style='margin-right: 20px;'><a href='#q1'>Question 1</a></li>\n",
    "        <li style='margin-right: 20px;'><a href='#q2'>Question 2</a></li>\n",
    "        <li style='margin-right: 20px;'><a href='#q3'>Question 3</a></li>\n",
    "        <li style='margin-right: 20px;'><a href='#q4'>Question 4</a></li>\n",
    "    </ul>\n",
    "</div>\n"
   ]
  },
  {
   "cell_type": "markdown",
   "id": "2b0a2348",
   "metadata": {},
   "source": [
    "<div style='background-color : lightblue'>\n",
    "<a id='imports'></a>\n",
    "    <b><u><i><h1 style='text-align : center;padding-top: 25px;''>\n",
    "        Imports\n",
    "    </h1></i></u></b>\n",
    "<li><a href='#TableOfContents'>Table of Contents</a></li>"
   ]
  },
  {
   "cell_type": "code",
   "execution_count": 1,
   "id": "a7aa37e4-30e3-4550-88cd-5c3f4b300ad6",
   "metadata": {},
   "outputs": [],
   "source": [
    "import pyspark\n",
    "\n",
    "import pandas as pd\n",
    "import numpy as np\n",
    "\n",
    "from pydataset import data\n",
    "from pyspark.sql.functions import col, expr\n",
    "from pyspark.sql import functions as F\n",
    "\n"
   ]
  },
  {
   "cell_type": "markdown",
   "id": "259227c5-2595-4b35-90ca-9aaf8e818f96",
   "metadata": {},
   "source": [
    "<div style='background-color : lightblue'>\n",
    "<a id='q1'></a>\n",
    "    <b><u><i><h1 style='text-align : center; padding-top: 25px;''>\n",
    "        Question 1\n",
    "    </h1></i></u></b>\n",
    "<li><a href='#TableOfContents'>Table of Contents</a></li>"
   ]
  },
  {
   "cell_type": "markdown",
   "id": "9eca2a13",
   "metadata": {},
   "source": [
    "<b>Question 1.</b> Create a spark data frame that contains your favorite programming languages.\n",
    "\n",
    "- The name of the column should be language\n",
    "- View the schema of the dataframe\n",
    "- Output the shape of the dataframe\n",
    "- Show the first 5 records in the dataframe\n"
   ]
  },
  {
   "cell_type": "code",
   "execution_count": 2,
   "id": "7cf54295-f170-4af8-9687-c24fb006075b",
   "metadata": {},
   "outputs": [],
   "source": [
    "df = pd.DataFrame({'Language': ['python','javascript', 'css', 'html', 'java']})"
   ]
  },
  {
   "cell_type": "code",
   "execution_count": 3,
   "id": "6bc31ddb-b079-462d-8389-0385db243bb7",
   "metadata": {},
   "outputs": [
    {
     "data": {
      "text/html": [
       "<div>\n",
       "<style scoped>\n",
       "    .dataframe tbody tr th:only-of-type {\n",
       "        vertical-align: middle;\n",
       "    }\n",
       "\n",
       "    .dataframe tbody tr th {\n",
       "        vertical-align: top;\n",
       "    }\n",
       "\n",
       "    .dataframe thead th {\n",
       "        text-align: right;\n",
       "    }\n",
       "</style>\n",
       "<table border=\"1\" class=\"dataframe\">\n",
       "  <thead>\n",
       "    <tr style=\"text-align: right;\">\n",
       "      <th></th>\n",
       "      <th>Language</th>\n",
       "    </tr>\n",
       "  </thead>\n",
       "  <tbody>\n",
       "    <tr>\n",
       "      <th>0</th>\n",
       "      <td>python</td>\n",
       "    </tr>\n",
       "    <tr>\n",
       "      <th>1</th>\n",
       "      <td>javascript</td>\n",
       "    </tr>\n",
       "    <tr>\n",
       "      <th>2</th>\n",
       "      <td>css</td>\n",
       "    </tr>\n",
       "    <tr>\n",
       "      <th>3</th>\n",
       "      <td>html</td>\n",
       "    </tr>\n",
       "    <tr>\n",
       "      <th>4</th>\n",
       "      <td>java</td>\n",
       "    </tr>\n",
       "  </tbody>\n",
       "</table>\n",
       "</div>"
      ],
      "text/plain": [
       "     Language\n",
       "0      python\n",
       "1  javascript\n",
       "2         css\n",
       "3        html\n",
       "4        java"
      ]
     },
     "execution_count": 3,
     "metadata": {},
     "output_type": "execute_result"
    }
   ],
   "source": [
    "df"
   ]
  },
  {
   "cell_type": "code",
   "execution_count": 4,
   "id": "13f462fe-001b-44ac-847e-2ab30c375241",
   "metadata": {},
   "outputs": [
    {
     "name": "stderr",
     "output_type": "stream",
     "text": [
      "Setting default log level to \"WARN\".\n",
      "To adjust logging level use sc.setLogLevel(newLevel). For SparkR, use setLogLevel(newLevel).\n",
      "23/05/19 09:21:46 WARN NativeCodeLoader: Unable to load native-hadoop library for your platform... using builtin-java classes where applicable\n"
     ]
    }
   ],
   "source": [
    "spark = pyspark.sql.SparkSession.builder.getOrCreate()"
   ]
  },
  {
   "cell_type": "code",
   "execution_count": 5,
   "id": "e6bca5bf-dd0e-44b2-a925-6a78977dab82",
   "metadata": {},
   "outputs": [],
   "source": [
    "df = spark.createDataFrame(df)\n"
   ]
  },
  {
   "cell_type": "code",
   "execution_count": 6,
   "id": "35c061fa-ce4e-4d56-84ab-ea3469f4cd37",
   "metadata": {},
   "outputs": [
    {
     "name": "stdout",
     "output_type": "stream",
     "text": [
      "root\n",
      " |-- Language: string (nullable = true)\n",
      "\n"
     ]
    }
   ],
   "source": [
    "df.printSchema()"
   ]
  },
  {
   "cell_type": "code",
   "execution_count": 7,
   "id": "cd07c846-9f25-4975-a013-d15869d1b073",
   "metadata": {},
   "outputs": [
    {
     "name": "stderr",
     "output_type": "stream",
     "text": [
      "[Stage 0:>                                                          (0 + 8) / 8]\r"
     ]
    },
    {
     "name": "stdout",
     "output_type": "stream",
     "text": [
      "Shape: 5 rows, 1 columns\n"
     ]
    },
    {
     "name": "stderr",
     "output_type": "stream",
     "text": [
      "                                                                                \r"
     ]
    }
   ],
   "source": [
    "num_rows = df.count()\n",
    "\n",
    "columns = df.columns\n",
    "\n",
    "\n",
    "num_columns = len(columns)\n",
    "\n",
    "\n",
    "print(\"Shape: {} rows, {} columns\".format(num_rows, num_columns))"
   ]
  },
  {
   "cell_type": "code",
   "execution_count": 8,
   "id": "5573e15e-d95f-4414-91d0-34b784dd0aa3",
   "metadata": {},
   "outputs": [
    {
     "name": "stdout",
     "output_type": "stream",
     "text": [
      "+----------+\n",
      "|  Language|\n",
      "+----------+\n",
      "|    python|\n",
      "|javascript|\n",
      "|       css|\n",
      "|      html|\n",
      "|      java|\n",
      "+----------+\n",
      "\n"
     ]
    }
   ],
   "source": [
    "df.show(5)"
   ]
  },
  {
   "cell_type": "markdown",
   "id": "60de5f87-5fbc-418c-bd71-b1d92aa3dab1",
   "metadata": {},
   "source": [
    "<div style='background-color : lightblue'>\n",
    "<a id='q2'></a>\n",
    "    <b><u><i><h1 style='text-align : center; padding-top: 25px;''>\n",
    "        Question 2\n",
    "    </h1></i></u></b>\n",
    "<li><a href='#TableOfContents'>Table of Contents</a></li>"
   ]
  },
  {
   "cell_type": "markdown",
   "id": "0bbae257-0277-4691-85c4-31b9b576f697",
   "metadata": {},
   "source": [
    "<b>Question 2.</b> Load the mpg dataset as a spark dataframe.\n",
    "\n",
    "- Create 1 column of output that contains a message like the one below:\n",
    "\n",
    "\n",
    "The 1999 audi a4 has a 4 cylinder engine.\n",
    "For each vehicle.\n",
    "\n",
    "- Transform the trans column so that it only contains either manual or auto"
   ]
  },
  {
   "cell_type": "code",
   "execution_count": 9,
   "id": "d8dc1895-6f03-43f0-89cd-c9b24bddb125",
   "metadata": {},
   "outputs": [],
   "source": [
    "mpg = data('mpg')"
   ]
  },
  {
   "cell_type": "code",
   "execution_count": 10,
   "id": "134c4109-1a5d-4d9e-9636-2e8d78c3c583",
   "metadata": {
    "tags": []
   },
   "outputs": [],
   "source": [
    "mpg = spark.createDataFrame(mpg)"
   ]
  },
  {
   "cell_type": "code",
   "execution_count": 11,
   "id": "08e842a2-8d82-48e3-906d-c4f370b42454",
   "metadata": {},
   "outputs": [
    {
     "name": "stdout",
     "output_type": "stream",
     "text": [
      "+------------+------------------+-----+----+---+----------+---+---+---+---+-------+\n",
      "|manufacturer|             model|displ|year|cyl|     trans|drv|cty|hwy| fl|  class|\n",
      "+------------+------------------+-----+----+---+----------+---+---+---+---+-------+\n",
      "|        audi|                a4|  1.8|1999|  4|  auto(l5)|  f| 18| 29|  p|compact|\n",
      "|        audi|                a4|  1.8|1999|  4|manual(m5)|  f| 21| 29|  p|compact|\n",
      "|        audi|                a4|  2.0|2008|  4|manual(m6)|  f| 20| 31|  p|compact|\n",
      "|        audi|                a4|  2.0|2008|  4|  auto(av)|  f| 21| 30|  p|compact|\n",
      "|        audi|                a4|  2.8|1999|  6|  auto(l5)|  f| 16| 26|  p|compact|\n",
      "|        audi|                a4|  2.8|1999|  6|manual(m5)|  f| 18| 26|  p|compact|\n",
      "|        audi|                a4|  3.1|2008|  6|  auto(av)|  f| 18| 27|  p|compact|\n",
      "|        audi|        a4 quattro|  1.8|1999|  4|manual(m5)|  4| 18| 26|  p|compact|\n",
      "|        audi|        a4 quattro|  1.8|1999|  4|  auto(l5)|  4| 16| 25|  p|compact|\n",
      "|        audi|        a4 quattro|  2.0|2008|  4|manual(m6)|  4| 20| 28|  p|compact|\n",
      "|        audi|        a4 quattro|  2.0|2008|  4|  auto(s6)|  4| 19| 27|  p|compact|\n",
      "|        audi|        a4 quattro|  2.8|1999|  6|  auto(l5)|  4| 15| 25|  p|compact|\n",
      "|        audi|        a4 quattro|  2.8|1999|  6|manual(m5)|  4| 17| 25|  p|compact|\n",
      "|        audi|        a4 quattro|  3.1|2008|  6|  auto(s6)|  4| 17| 25|  p|compact|\n",
      "|        audi|        a4 quattro|  3.1|2008|  6|manual(m6)|  4| 15| 25|  p|compact|\n",
      "|        audi|        a6 quattro|  2.8|1999|  6|  auto(l5)|  4| 15| 24|  p|midsize|\n",
      "|        audi|        a6 quattro|  3.1|2008|  6|  auto(s6)|  4| 17| 25|  p|midsize|\n",
      "|        audi|        a6 quattro|  4.2|2008|  8|  auto(s6)|  4| 16| 23|  p|midsize|\n",
      "|   chevrolet|c1500 suburban 2wd|  5.3|2008|  8|  auto(l4)|  r| 14| 20|  r|    suv|\n",
      "|   chevrolet|c1500 suburban 2wd|  5.3|2008|  8|  auto(l4)|  r| 11| 15|  e|    suv|\n",
      "+------------+------------------+-----+----+---+----------+---+---+---+---+-------+\n",
      "only showing top 20 rows\n",
      "\n"
     ]
    }
   ],
   "source": [
    "mpg.show()"
   ]
  },
  {
   "cell_type": "code",
   "execution_count": 165,
   "id": "a0c3e6be-18a7-4cc9-bf28-137b5b5f7352",
   "metadata": {},
   "outputs": [],
   "source": [
    "mpg = mpg.withColumn(\"Message\", F.concat(F.lit(\"The \"), mpg.year,F.lit(\" \"), mpg.manufacturer,F.lit(\" \"), mpg.model, F.lit(\" \"), F.lit(\" has a \"), mpg.cyl, F.lit(\" cylinder engine. \")))\n"
   ]
  },
  {
   "cell_type": "code",
   "execution_count": 13,
   "id": "f7dde047-d674-4339-9777-6088b283aba8",
   "metadata": {},
   "outputs": [
    {
     "name": "stdout",
     "output_type": "stream",
     "text": [
      "+----------------------------------------------------------------+\n",
      "|Message                                                         |\n",
      "+----------------------------------------------------------------+\n",
      "|The 1999 audi a4  has a 4 cylinder engine.                      |\n",
      "|The 1999 audi a4  has a 4 cylinder engine.                      |\n",
      "|The 2008 audi a4  has a 4 cylinder engine.                      |\n",
      "|The 2008 audi a4  has a 4 cylinder engine.                      |\n",
      "|The 1999 audi a4  has a 6 cylinder engine.                      |\n",
      "|The 1999 audi a4  has a 6 cylinder engine.                      |\n",
      "|The 2008 audi a4  has a 6 cylinder engine.                      |\n",
      "|The 1999 audi a4 quattro  has a 4 cylinder engine.              |\n",
      "|The 1999 audi a4 quattro  has a 4 cylinder engine.              |\n",
      "|The 2008 audi a4 quattro  has a 4 cylinder engine.              |\n",
      "|The 2008 audi a4 quattro  has a 4 cylinder engine.              |\n",
      "|The 1999 audi a4 quattro  has a 6 cylinder engine.              |\n",
      "|The 1999 audi a4 quattro  has a 6 cylinder engine.              |\n",
      "|The 2008 audi a4 quattro  has a 6 cylinder engine.              |\n",
      "|The 2008 audi a4 quattro  has a 6 cylinder engine.              |\n",
      "|The 1999 audi a6 quattro  has a 6 cylinder engine.              |\n",
      "|The 2008 audi a6 quattro  has a 6 cylinder engine.              |\n",
      "|The 2008 audi a6 quattro  has a 8 cylinder engine.              |\n",
      "|The 2008 chevrolet c1500 suburban 2wd  has a 8 cylinder engine. |\n",
      "|The 2008 chevrolet c1500 suburban 2wd  has a 8 cylinder engine. |\n",
      "+----------------------------------------------------------------+\n",
      "only showing top 20 rows\n",
      "\n"
     ]
    }
   ],
   "source": [
    "mpg.select('Message').show(truncate=False)"
   ]
  },
  {
   "cell_type": "code",
   "execution_count": 14,
   "id": "7253ebaa-a585-4343-9042-d1276a3743a4",
   "metadata": {},
   "outputs": [],
   "source": [
    "mpg = mpg.withColumn(\"trans\", F.when(F.col(\"trans\").startswith(\"manual\"), 'manual').otherwise('auto'))"
   ]
  },
  {
   "cell_type": "code",
   "execution_count": 15,
   "id": "c15f2a4e-1c72-4f00-8e75-543839c8be1f",
   "metadata": {},
   "outputs": [
    {
     "name": "stdout",
     "output_type": "stream",
     "text": [
      "+------------+------------------+-----+----+---+------+---+---+---+---+-------+--------------------+\n",
      "|manufacturer|             model|displ|year|cyl| trans|drv|cty|hwy| fl|  class|             Message|\n",
      "+------------+------------------+-----+----+---+------+---+---+---+---+-------+--------------------+\n",
      "|        audi|                a4|  1.8|1999|  4|  auto|  f| 18| 29|  p|compact|The 1999 audi a4 ...|\n",
      "|        audi|                a4|  1.8|1999|  4|manual|  f| 21| 29|  p|compact|The 1999 audi a4 ...|\n",
      "|        audi|                a4|  2.0|2008|  4|manual|  f| 20| 31|  p|compact|The 2008 audi a4 ...|\n",
      "|        audi|                a4|  2.0|2008|  4|  auto|  f| 21| 30|  p|compact|The 2008 audi a4 ...|\n",
      "|        audi|                a4|  2.8|1999|  6|  auto|  f| 16| 26|  p|compact|The 1999 audi a4 ...|\n",
      "|        audi|                a4|  2.8|1999|  6|manual|  f| 18| 26|  p|compact|The 1999 audi a4 ...|\n",
      "|        audi|                a4|  3.1|2008|  6|  auto|  f| 18| 27|  p|compact|The 2008 audi a4 ...|\n",
      "|        audi|        a4 quattro|  1.8|1999|  4|manual|  4| 18| 26|  p|compact|The 1999 audi a4 ...|\n",
      "|        audi|        a4 quattro|  1.8|1999|  4|  auto|  4| 16| 25|  p|compact|The 1999 audi a4 ...|\n",
      "|        audi|        a4 quattro|  2.0|2008|  4|manual|  4| 20| 28|  p|compact|The 2008 audi a4 ...|\n",
      "|        audi|        a4 quattro|  2.0|2008|  4|  auto|  4| 19| 27|  p|compact|The 2008 audi a4 ...|\n",
      "|        audi|        a4 quattro|  2.8|1999|  6|  auto|  4| 15| 25|  p|compact|The 1999 audi a4 ...|\n",
      "|        audi|        a4 quattro|  2.8|1999|  6|manual|  4| 17| 25|  p|compact|The 1999 audi a4 ...|\n",
      "|        audi|        a4 quattro|  3.1|2008|  6|  auto|  4| 17| 25|  p|compact|The 2008 audi a4 ...|\n",
      "|        audi|        a4 quattro|  3.1|2008|  6|manual|  4| 15| 25|  p|compact|The 2008 audi a4 ...|\n",
      "|        audi|        a6 quattro|  2.8|1999|  6|  auto|  4| 15| 24|  p|midsize|The 1999 audi a6 ...|\n",
      "|        audi|        a6 quattro|  3.1|2008|  6|  auto|  4| 17| 25|  p|midsize|The 2008 audi a6 ...|\n",
      "|        audi|        a6 quattro|  4.2|2008|  8|  auto|  4| 16| 23|  p|midsize|The 2008 audi a6 ...|\n",
      "|   chevrolet|c1500 suburban 2wd|  5.3|2008|  8|  auto|  r| 14| 20|  r|    suv|The 2008 chevrole...|\n",
      "|   chevrolet|c1500 suburban 2wd|  5.3|2008|  8|  auto|  r| 11| 15|  e|    suv|The 2008 chevrole...|\n",
      "+------------+------------------+-----+----+---+------+---+---+---+---+-------+--------------------+\n",
      "only showing top 20 rows\n",
      "\n"
     ]
    }
   ],
   "source": [
    "mpg.show()"
   ]
  },
  {
   "cell_type": "markdown",
   "id": "d17ee7be",
   "metadata": {},
   "source": [
    "\n",
    "\n",
    "<div style='background-color : lightblue'>\n",
    "<a id='q3'></a>\n",
    "    <b><u><i><h1 style='text-align : center; padding-top: 25px;''>\n",
    "        Question 3\n",
    "    </h1></i></u></b>\n",
    "<li><a href='#TableOfContents'>Table of Contents</a></li>"
   ]
  },
  {
   "cell_type": "markdown",
   "id": "bcbdbefc",
   "metadata": {},
   "source": [
    "<b>Question 3.</b> Load the tips dataset as a spark dataframe.\n",
    "\n",
    "- What percentage of observations are smokers?\n",
    "- Create a column that contains the tip percentage\n",
    "- Calculate the average tip percentage for each combination of sex and smoker."
   ]
  },
  {
   "cell_type": "code",
   "execution_count": 16,
   "id": "156ad6d7-35f9-4fc5-bf9d-0cdd706b6ac1",
   "metadata": {},
   "outputs": [],
   "source": [
    "tips = data('tips')"
   ]
  },
  {
   "cell_type": "code",
   "execution_count": 17,
   "id": "25155755-844c-459b-a0d9-8327891c4d98",
   "metadata": {},
   "outputs": [],
   "source": [
    "tips = spark.createDataFrame(tips)"
   ]
  },
  {
   "cell_type": "code",
   "execution_count": 18,
   "id": "d63b573e-dbd4-4dbe-85f5-97484e7979a3",
   "metadata": {},
   "outputs": [
    {
     "name": "stdout",
     "output_type": "stream",
     "text": [
      "+----------+----+------+------+---+------+----+\n",
      "|total_bill| tip|   sex|smoker|day|  time|size|\n",
      "+----------+----+------+------+---+------+----+\n",
      "|     16.99|1.01|Female|    No|Sun|Dinner|   2|\n",
      "|     10.34|1.66|  Male|    No|Sun|Dinner|   3|\n",
      "|     21.01| 3.5|  Male|    No|Sun|Dinner|   3|\n",
      "|     23.68|3.31|  Male|    No|Sun|Dinner|   2|\n",
      "|     24.59|3.61|Female|    No|Sun|Dinner|   4|\n",
      "+----------+----+------+------+---+------+----+\n",
      "only showing top 5 rows\n",
      "\n"
     ]
    }
   ],
   "source": [
    "tips.show(5)"
   ]
  },
  {
   "cell_type": "code",
   "execution_count": 19,
   "id": "ba4c81f1-dcc5-4fa6-bc94-d30401d50fa4",
   "metadata": {},
   "outputs": [],
   "source": [
    "smoker_col_total = tips.select('smoker').count()"
   ]
  },
  {
   "cell_type": "code",
   "execution_count": 20,
   "id": "7e9ef2f5-1b9c-4955-aef1-ab3799e0a2ae",
   "metadata": {},
   "outputs": [],
   "source": [
    "smokers = tips.filter(col('smoker') == 'Yes').count()"
   ]
  },
  {
   "cell_type": "code",
   "execution_count": 21,
   "id": "141806a5-ddf5-4f3e-907d-5ffbbb876813",
   "metadata": {},
   "outputs": [],
   "source": [
    "percentage_smokers = round((smokers / smoker_col_total) * 100)"
   ]
  },
  {
   "cell_type": "code",
   "execution_count": 22,
   "id": "f521cbcc-1536-4080-af6c-b30eae60f3ae",
   "metadata": {},
   "outputs": [
    {
     "data": {
      "text/plain": [
       "38"
      ]
     },
     "execution_count": 22,
     "metadata": {},
     "output_type": "execute_result"
    }
   ],
   "source": [
    "# What percentage of observations are smokers?\n",
    "percentage_smokers"
   ]
  },
  {
   "cell_type": "code",
   "execution_count": 23,
   "id": "b66188fd-3159-42ac-8109-65808f984e45",
   "metadata": {
    "tags": []
   },
   "outputs": [
    {
     "data": {
      "text/plain": [
       "5.9446733372572105"
      ]
     },
     "execution_count": 23,
     "metadata": {},
     "output_type": "execute_result"
    }
   ],
   "source": [
    "1.01/ 16.99 * 100"
   ]
  },
  {
   "cell_type": "code",
   "execution_count": 24,
   "id": "06589fa8-fc69-45af-b7ac-a0e135eaa040",
   "metadata": {},
   "outputs": [],
   "source": [
    "# Create a column that contains the tip percentage\n",
    "tips = tips.withColumn('tip_percentage',F.round((tips.tip / tips.total_bill )* 100))\n"
   ]
  },
  {
   "cell_type": "code",
   "execution_count": 25,
   "id": "0c2a0852-3659-4431-90b2-2d7b04b1ab8c",
   "metadata": {},
   "outputs": [
    {
     "name": "stdout",
     "output_type": "stream",
     "text": [
      "+----------+----+------+------+---+------+----+--------------+\n",
      "|total_bill| tip|   sex|smoker|day|  time|size|tip_percentage|\n",
      "+----------+----+------+------+---+------+----+--------------+\n",
      "|     16.99|1.01|Female|    No|Sun|Dinner|   2|           6.0|\n",
      "|     10.34|1.66|  Male|    No|Sun|Dinner|   3|          16.0|\n",
      "|     21.01| 3.5|  Male|    No|Sun|Dinner|   3|          17.0|\n",
      "|     23.68|3.31|  Male|    No|Sun|Dinner|   2|          14.0|\n",
      "|     24.59|3.61|Female|    No|Sun|Dinner|   4|          15.0|\n",
      "+----------+----+------+------+---+------+----+--------------+\n",
      "only showing top 5 rows\n",
      "\n"
     ]
    }
   ],
   "source": [
    "tips.show(5)"
   ]
  },
  {
   "cell_type": "code",
   "execution_count": 171,
   "id": "8d82a28d-943e-4f48-8fbe-43e8a0e64feb",
   "metadata": {},
   "outputs": [
    {
     "name": "stdout",
     "output_type": "stream",
     "text": [
      "+------+------+---------+\n",
      "|   sex|smoker|avg_tip_%|\n",
      "+------+------+---------+\n",
      "|  Male|    No|     16.0|\n",
      "|Female|    No|     16.0|\n",
      "|  Male|   Yes|     15.0|\n",
      "|Female|   Yes|     18.0|\n",
      "+------+------+---------+\n",
      "\n"
     ]
    }
   ],
   "source": [
    "# Calculate the average tip percentage for each combination of sex and smoker.\n",
    "tips.groupBy(\"sex\", \"smoker\").agg(\n",
    "    F.round(F.avg((tips.tip / tips.total_bill) * 100)).alias('avg_tip_%')).show()"
   ]
  },
  {
   "cell_type": "markdown",
   "id": "0d8a3717-629e-4dc4-a6f1-74ad13f0f301",
   "metadata": {},
   "source": [
    "<div style='background-color : lightblue'>\n",
    "<a id='q4'></a>\n",
    "    <b><u><i><h1 style='text-align : center; padding-top: 25px;''>\n",
    "        Question 4\n",
    "    </h1></i></u></b>\n",
    "<li><a href='#TableOfContents'>Table of Contents</a></li>"
   ]
  },
  {
   "cell_type": "markdown",
   "id": "ece985de-9629-44e9-b38e-3ff47ee1712b",
   "metadata": {},
   "source": [
    "<b>Question 4.</b> Use the seattle weather dataset referenced in the lesson to answer the questions below.\n",
    "\n",
    "- Convert the temperatures to fahrenheit.\n",
    "- Which month has the most rain, on average?\n",
    "- Which year was the windiest?\n",
    "- What is the most frequent type of weather in January?\n",
    "- What is the average high and low temperature on sunny days in July in 2013 and 2014?\n",
    "- What percentage of days were rainy in q3 of 2015?\n",
    "- For each year, find what percentage of days it rained (had non-zero precipitation)."
   ]
  },
  {
   "cell_type": "code",
   "execution_count": 27,
   "id": "f8d2cf56-3252-4276-b19d-f41932947f68",
   "metadata": {},
   "outputs": [],
   "source": [
    "from vega_datasets import data"
   ]
  },
  {
   "cell_type": "code",
   "execution_count": 28,
   "id": "76fb9966",
   "metadata": {},
   "outputs": [],
   "source": [
    "weather = data.seattle_weather().assign(date=lambda df: df.date.astype(str))\n",
    "# weather = spark.createDataFrame(weather)\n",
    "# weather.show(6)\n"
   ]
  },
  {
   "cell_type": "code",
   "execution_count": 29,
   "id": "6e0f5108-9854-4f00-9d6a-9b4b8cd063e4",
   "metadata": {},
   "outputs": [
    {
     "data": {
      "text/html": [
       "<div>\n",
       "<style scoped>\n",
       "    .dataframe tbody tr th:only-of-type {\n",
       "        vertical-align: middle;\n",
       "    }\n",
       "\n",
       "    .dataframe tbody tr th {\n",
       "        vertical-align: top;\n",
       "    }\n",
       "\n",
       "    .dataframe thead th {\n",
       "        text-align: right;\n",
       "    }\n",
       "</style>\n",
       "<table border=\"1\" class=\"dataframe\">\n",
       "  <thead>\n",
       "    <tr style=\"text-align: right;\">\n",
       "      <th></th>\n",
       "      <th>date</th>\n",
       "      <th>precipitation</th>\n",
       "      <th>temp_max</th>\n",
       "      <th>temp_min</th>\n",
       "      <th>wind</th>\n",
       "      <th>weather</th>\n",
       "    </tr>\n",
       "  </thead>\n",
       "  <tbody>\n",
       "    <tr>\n",
       "      <th>0</th>\n",
       "      <td>2012-01-01</td>\n",
       "      <td>0.0</td>\n",
       "      <td>12.8</td>\n",
       "      <td>5.0</td>\n",
       "      <td>4.7</td>\n",
       "      <td>drizzle</td>\n",
       "    </tr>\n",
       "    <tr>\n",
       "      <th>1</th>\n",
       "      <td>2012-01-02</td>\n",
       "      <td>10.9</td>\n",
       "      <td>10.6</td>\n",
       "      <td>2.8</td>\n",
       "      <td>4.5</td>\n",
       "      <td>rain</td>\n",
       "    </tr>\n",
       "    <tr>\n",
       "      <th>2</th>\n",
       "      <td>2012-01-03</td>\n",
       "      <td>0.8</td>\n",
       "      <td>11.7</td>\n",
       "      <td>7.2</td>\n",
       "      <td>2.3</td>\n",
       "      <td>rain</td>\n",
       "    </tr>\n",
       "    <tr>\n",
       "      <th>3</th>\n",
       "      <td>2012-01-04</td>\n",
       "      <td>20.3</td>\n",
       "      <td>12.2</td>\n",
       "      <td>5.6</td>\n",
       "      <td>4.7</td>\n",
       "      <td>rain</td>\n",
       "    </tr>\n",
       "    <tr>\n",
       "      <th>4</th>\n",
       "      <td>2012-01-05</td>\n",
       "      <td>1.3</td>\n",
       "      <td>8.9</td>\n",
       "      <td>2.8</td>\n",
       "      <td>6.1</td>\n",
       "      <td>rain</td>\n",
       "    </tr>\n",
       "    <tr>\n",
       "      <th>...</th>\n",
       "      <td>...</td>\n",
       "      <td>...</td>\n",
       "      <td>...</td>\n",
       "      <td>...</td>\n",
       "      <td>...</td>\n",
       "      <td>...</td>\n",
       "    </tr>\n",
       "    <tr>\n",
       "      <th>1456</th>\n",
       "      <td>2015-12-27</td>\n",
       "      <td>8.6</td>\n",
       "      <td>4.4</td>\n",
       "      <td>1.7</td>\n",
       "      <td>2.9</td>\n",
       "      <td>fog</td>\n",
       "    </tr>\n",
       "    <tr>\n",
       "      <th>1457</th>\n",
       "      <td>2015-12-28</td>\n",
       "      <td>1.5</td>\n",
       "      <td>5.0</td>\n",
       "      <td>1.7</td>\n",
       "      <td>1.3</td>\n",
       "      <td>fog</td>\n",
       "    </tr>\n",
       "    <tr>\n",
       "      <th>1458</th>\n",
       "      <td>2015-12-29</td>\n",
       "      <td>0.0</td>\n",
       "      <td>7.2</td>\n",
       "      <td>0.6</td>\n",
       "      <td>2.6</td>\n",
       "      <td>fog</td>\n",
       "    </tr>\n",
       "    <tr>\n",
       "      <th>1459</th>\n",
       "      <td>2015-12-30</td>\n",
       "      <td>0.0</td>\n",
       "      <td>5.6</td>\n",
       "      <td>-1.0</td>\n",
       "      <td>3.4</td>\n",
       "      <td>sun</td>\n",
       "    </tr>\n",
       "    <tr>\n",
       "      <th>1460</th>\n",
       "      <td>2015-12-31</td>\n",
       "      <td>0.0</td>\n",
       "      <td>5.6</td>\n",
       "      <td>-2.1</td>\n",
       "      <td>3.5</td>\n",
       "      <td>sun</td>\n",
       "    </tr>\n",
       "  </tbody>\n",
       "</table>\n",
       "<p>1461 rows × 6 columns</p>\n",
       "</div>"
      ],
      "text/plain": [
       "            date  precipitation  temp_max  temp_min  wind  weather\n",
       "0     2012-01-01            0.0      12.8       5.0   4.7  drizzle\n",
       "1     2012-01-02           10.9      10.6       2.8   4.5     rain\n",
       "2     2012-01-03            0.8      11.7       7.2   2.3     rain\n",
       "3     2012-01-04           20.3      12.2       5.6   4.7     rain\n",
       "4     2012-01-05            1.3       8.9       2.8   6.1     rain\n",
       "...          ...            ...       ...       ...   ...      ...\n",
       "1456  2015-12-27            8.6       4.4       1.7   2.9      fog\n",
       "1457  2015-12-28            1.5       5.0       1.7   1.3      fog\n",
       "1458  2015-12-29            0.0       7.2       0.6   2.6      fog\n",
       "1459  2015-12-30            0.0       5.6      -1.0   3.4      sun\n",
       "1460  2015-12-31            0.0       5.6      -2.1   3.5      sun\n",
       "\n",
       "[1461 rows x 6 columns]"
      ]
     },
     "execution_count": 29,
     "metadata": {},
     "output_type": "execute_result"
    }
   ],
   "source": [
    "weather"
   ]
  },
  {
   "cell_type": "code",
   "execution_count": 30,
   "id": "ee13c035-8960-42ea-9ec6-63e4ef1ecad9",
   "metadata": {},
   "outputs": [],
   "source": [
    "weather = spark.createDataFrame(weather)\n"
   ]
  },
  {
   "cell_type": "code",
   "execution_count": 31,
   "id": "b0bf07c9-9ea7-4f3e-9bbb-b78eb0e218ac",
   "metadata": {},
   "outputs": [
    {
     "name": "stdout",
     "output_type": "stream",
     "text": [
      "+----------+-------------+--------+--------+----+-------+\n",
      "|      date|precipitation|temp_max|temp_min|wind|weather|\n",
      "+----------+-------------+--------+--------+----+-------+\n",
      "|2012-01-01|          0.0|    12.8|     5.0| 4.7|drizzle|\n",
      "|2012-01-02|         10.9|    10.6|     2.8| 4.5|   rain|\n",
      "|2012-01-03|          0.8|    11.7|     7.2| 2.3|   rain|\n",
      "|2012-01-04|         20.3|    12.2|     5.6| 4.7|   rain|\n",
      "|2012-01-05|          1.3|     8.9|     2.8| 6.1|   rain|\n",
      "|2012-01-06|          2.5|     4.4|     2.2| 2.2|   rain|\n",
      "|2012-01-07|          0.0|     7.2|     2.8| 2.3|   rain|\n",
      "|2012-01-08|          0.0|    10.0|     2.8| 2.0|    sun|\n",
      "|2012-01-09|          4.3|     9.4|     5.0| 3.4|   rain|\n",
      "|2012-01-10|          1.0|     6.1|     0.6| 3.4|   rain|\n",
      "|2012-01-11|          0.0|     6.1|    -1.1| 5.1|    sun|\n",
      "|2012-01-12|          0.0|     6.1|    -1.7| 1.9|    sun|\n",
      "|2012-01-13|          0.0|     5.0|    -2.8| 1.3|    sun|\n",
      "|2012-01-14|          4.1|     4.4|     0.6| 5.3|   snow|\n",
      "|2012-01-15|          5.3|     1.1|    -3.3| 3.2|   snow|\n",
      "|2012-01-16|          2.5|     1.7|    -2.8| 5.0|   snow|\n",
      "|2012-01-17|          8.1|     3.3|     0.0| 5.6|   snow|\n",
      "|2012-01-18|         19.8|     0.0|    -2.8| 5.0|   snow|\n",
      "|2012-01-19|         15.2|    -1.1|    -2.8| 1.6|   snow|\n",
      "|2012-01-20|         13.5|     7.2|    -1.1| 2.3|   snow|\n",
      "+----------+-------------+--------+--------+----+-------+\n",
      "only showing top 20 rows\n",
      "\n"
     ]
    }
   ],
   "source": [
    "weather.show()"
   ]
  },
  {
   "cell_type": "code",
   "execution_count": 32,
   "id": "8fa9be5b-9eb1-4b51-89fe-d87279159f36",
   "metadata": {},
   "outputs": [],
   "source": [
    "# Convert the temperatures to fahrenheit."
   ]
  },
  {
   "cell_type": "code",
   "execution_count": 37,
   "id": "59255d04-9973-4440-b7c6-96b9c4448e8b",
   "metadata": {},
   "outputs": [],
   "source": [
    "weather = weather.withColumn(\"temp_max\", F.round(col(\"temp_max\") * 9/5 + 32))"
   ]
  },
  {
   "cell_type": "code",
   "execution_count": 38,
   "id": "ded5305d-7e1f-4010-a856-6767c09f86ba",
   "metadata": {},
   "outputs": [],
   "source": [
    "weather = weather.withColumn(\"temp_min\", F.round(col(\"temp_min\") * 9/5 + 32))"
   ]
  },
  {
   "cell_type": "code",
   "execution_count": 40,
   "id": "2757d084-aedb-4d4c-a140-6f024f8f57f0",
   "metadata": {},
   "outputs": [
    {
     "name": "stdout",
     "output_type": "stream",
     "text": [
      "+----------+-------------+--------+--------+----+-------+\n",
      "|      date|precipitation|temp_max|temp_min|wind|weather|\n",
      "+----------+-------------+--------+--------+----+-------+\n",
      "|2012-01-01|          0.0|    55.0|    41.0| 4.7|drizzle|\n",
      "|2012-01-02|         10.9|    51.0|    37.0| 4.5|   rain|\n",
      "|2012-01-03|          0.8|    53.0|    45.0| 2.3|   rain|\n",
      "|2012-01-04|         20.3|    54.0|    42.0| 4.7|   rain|\n",
      "|2012-01-05|          1.3|    48.0|    37.0| 6.1|   rain|\n",
      "|2012-01-06|          2.5|    40.0|    36.0| 2.2|   rain|\n",
      "|2012-01-07|          0.0|    45.0|    37.0| 2.3|   rain|\n",
      "|2012-01-08|          0.0|    50.0|    37.0| 2.0|    sun|\n",
      "|2012-01-09|          4.3|    49.0|    41.0| 3.4|   rain|\n",
      "|2012-01-10|          1.0|    43.0|    33.0| 3.4|   rain|\n",
      "|2012-01-11|          0.0|    43.0|    30.0| 5.1|    sun|\n",
      "|2012-01-12|          0.0|    43.0|    29.0| 1.9|    sun|\n",
      "|2012-01-13|          0.0|    41.0|    27.0| 1.3|    sun|\n",
      "|2012-01-14|          4.1|    40.0|    33.0| 5.3|   snow|\n",
      "|2012-01-15|          5.3|    34.0|    26.0| 3.2|   snow|\n",
      "|2012-01-16|          2.5|    35.0|    27.0| 5.0|   snow|\n",
      "|2012-01-17|          8.1|    38.0|    32.0| 5.6|   snow|\n",
      "|2012-01-18|         19.8|    32.0|    27.0| 5.0|   snow|\n",
      "|2012-01-19|         15.2|    30.0|    27.0| 1.6|   snow|\n",
      "|2012-01-20|         13.5|    45.0|    30.0| 2.3|   snow|\n",
      "+----------+-------------+--------+--------+----+-------+\n",
      "only showing top 20 rows\n",
      "\n"
     ]
    }
   ],
   "source": [
    "weather.show(20)"
   ]
  },
  {
   "cell_type": "code",
   "execution_count": null,
   "id": "451a438a-7be3-4205-b346-a3282aa172c5",
   "metadata": {},
   "outputs": [],
   "source": [
    "# Which month has the most rain, on average?"
   ]
  },
  {
   "cell_type": "code",
   "execution_count": 53,
   "id": "fa985492-0ca1-4cb0-a090-a004b282e3d8",
   "metadata": {},
   "outputs": [],
   "source": [
    "rain_weather = weather.filter(weather.weather == 'rain')"
   ]
  },
  {
   "cell_type": "code",
   "execution_count": 179,
   "id": "a3956607-7dbb-4a79-a3ec-08c798d324bc",
   "metadata": {},
   "outputs": [
    {
     "name": "stderr",
     "output_type": "stream",
     "text": [
      "[Stage 154:>                                                        (0 + 8) / 8]\r"
     ]
    },
    {
     "name": "stdout",
     "output_type": "stream",
     "text": [
      "+-----+-------+--------+\n",
      "|month|weather|avg_rain|\n",
      "+-----+-------+--------+\n",
      "|    9|   rain|    0.22|\n",
      "|    7|   rain|    1.88|\n",
      "|    2|   rain|    3.17|\n",
      "|    5|   rain|    3.26|\n",
      "|    4|   rain|    3.43|\n",
      "|    6|   rain|    3.95|\n",
      "|    3|   rain|    4.92|\n",
      "|   12|   rain|    5.03|\n",
      "|    8|   rain|    6.43|\n",
      "|    1|   rain|    6.61|\n",
      "|   11|   rain|    8.42|\n",
      "|   10|   rain|    9.68|\n",
      "+-----+-------+--------+\n",
      "\n"
     ]
    },
    {
     "name": "stderr",
     "output_type": "stream",
     "text": [
      "                                                                                \r"
     ]
    }
   ],
   "source": [
    "rain_weather.withColumn('month', F.month(F.col('date'))).groupby(\n",
    "    'month', 'weather').agg(\n",
    "    F.round(F.avg(weather.precipitation), 2).alias('avg_rain')).sort('avg_rain').show()"
   ]
  },
  {
   "cell_type": "code",
   "execution_count": null,
   "id": "65d70f81-d17e-4a0f-8788-6fdf875ec24a",
   "metadata": {},
   "outputs": [],
   "source": [
    "# Which year was the windiest? "
   ]
  },
  {
   "cell_type": "code",
   "execution_count": 73,
   "id": "fa5fb8fd-87d1-440f-991c-2a71ef74f55a",
   "metadata": {},
   "outputs": [
    {
     "name": "stdout",
     "output_type": "stream",
     "text": [
      "+----+----------+\n",
      "|year|total_wind|\n",
      "+----+----------+\n",
      "|2013|    1100.8|\n",
      "|2015|    1153.3|\n",
      "|2014|    1236.5|\n",
      "|2012|    1244.7|\n",
      "+----+----------+\n",
      "\n"
     ]
    }
   ],
   "source": [
    "weather.withColumn('year', F.year(F.col('date'))).groupby(\n",
    "    'year').agg(\n",
    "    F.round(F.sum(weather.wind), 2).alias('total_wind')).sort('total_wind').show()"
   ]
  },
  {
   "cell_type": "code",
   "execution_count": null,
   "id": "c8e242f4-d9c6-41d5-876e-3322056c63f0",
   "metadata": {},
   "outputs": [],
   "source": [
    "# What is the most frequent type of weather in January?"
   ]
  },
  {
   "cell_type": "code",
   "execution_count": 77,
   "id": "063a4d08-f6d8-4069-ac99-c1001e69a9f5",
   "metadata": {},
   "outputs": [
    {
     "name": "stdout",
     "output_type": "stream",
     "text": [
      "+-----+-------------+\n",
      "|month|mode(weather)|\n",
      "+-----+-------------+\n",
      "|    1|          fog|\n",
      "|    6|          sun|\n",
      "|    3|          sun|\n",
      "|    5|          sun|\n",
      "|    4|          sun|\n",
      "|    2|         rain|\n",
      "|   12|          fog|\n",
      "|    9|          sun|\n",
      "|    8|          sun|\n",
      "|    7|          sun|\n",
      "|   10|          fog|\n",
      "|   11|          fog|\n",
      "+-----+-------------+\n",
      "\n"
     ]
    }
   ],
   "source": [
    "weather..agg(withColumn('month', F.month(F.col('date'))).groupby(\n",
    "    'month')\n",
    "    F.mode(weather.weather)).show()"
   ]
  },
  {
   "cell_type": "code",
   "execution_count": null,
   "id": "776d1613-f0ed-4398-b9cd-e4fdaccd5303",
   "metadata": {},
   "outputs": [],
   "source": [
    "# What is the average high and low temperature on sunny days in July in 2013 and 2014?"
   ]
  },
  {
   "cell_type": "code",
   "execution_count": 128,
   "id": "7dc624db-0133-4a73-8d37-bc9c7cb6a8bd",
   "metadata": {},
   "outputs": [],
   "source": [
    "sunny_weather = weather.filter(weather.weather == 'sun')"
   ]
  },
  {
   "cell_type": "code",
   "execution_count": 129,
   "id": "0eb3d2b7-4991-4037-9dd7-1550ccbadb48",
   "metadata": {},
   "outputs": [
    {
     "name": "stdout",
     "output_type": "stream",
     "text": [
      "+----------+-------------+--------+--------+----+-------+\n",
      "|      date|precipitation|temp_max|temp_min|wind|weather|\n",
      "+----------+-------------+--------+--------+----+-------+\n",
      "|2012-01-08|          0.0|    50.0|    37.0| 2.0|    sun|\n",
      "|2012-01-11|          0.0|    43.0|    30.0| 5.1|    sun|\n",
      "|2012-01-12|          0.0|    43.0|    29.0| 1.9|    sun|\n",
      "|2012-01-13|          0.0|    41.0|    27.0| 1.3|    sun|\n",
      "|2012-02-02|          0.0|    47.0|    35.0| 2.6|    sun|\n",
      "+----------+-------------+--------+--------+----+-------+\n",
      "only showing top 5 rows\n",
      "\n"
     ]
    }
   ],
   "source": [
    "sunny_weather.show(5)"
   ]
  },
  {
   "cell_type": "code",
   "execution_count": 130,
   "id": "a7eea2f4-55c4-4bae-a81d-b9de5f3ddc7b",
   "metadata": {
    "tags": []
   },
   "outputs": [],
   "source": [
    "sunny_weather = sunny_weather.filter(sunny_weather.date.substr(1, 4).isin(['2013', '2014']))"
   ]
  },
  {
   "cell_type": "code",
   "execution_count": 157,
   "id": "600ca9de-b84d-495f-b51d-aaf2e2fc6d21",
   "metadata": {},
   "outputs": [
    {
     "name": "stdout",
     "output_type": "stream",
     "text": [
      "+----------+-------------+--------+--------+----+-------+\n",
      "|      date|precipitation|temp_max|temp_min|wind|weather|\n",
      "+----------+-------------+--------+--------+----+-------+\n",
      "|2013-01-01|          0.0|    41.0|    27.0| 2.7|    sun|\n",
      "|2013-01-02|          0.0|    43.0|    30.0| 3.2|    sun|\n",
      "|2013-01-12|          0.0|    37.0|    25.0| 2.0|    sun|\n",
      "|2013-01-13|          0.0|    36.0|    24.0| 1.5|    sun|\n",
      "|2013-01-14|          0.0|    38.0|    28.0| 1.3|    sun|\n",
      "+----------+-------------+--------+--------+----+-------+\n",
      "only showing top 5 rows\n",
      "\n"
     ]
    }
   ],
   "source": [
    "sunny_weather.show(5)"
   ]
  },
  {
   "cell_type": "code",
   "execution_count": 151,
   "id": "09a683e2-3f9b-4d0e-ad51-af5950b0eff0",
   "metadata": {},
   "outputs": [
    {
     "name": "stdout",
     "output_type": "stream",
     "text": [
      "+-----+-----------------+------------------+\n",
      "|month|    avg(temp_max)|     avg(temp_min)|\n",
      "+-----+-----------------+------------------+\n",
      "|    1|46.84615384615385| 36.26923076923077|\n",
      "|    6| 73.3061224489796|54.285714285714285|\n",
      "|    3|            54.85|              37.9|\n",
      "|    5|69.88888888888889| 50.28888888888889|\n",
      "|    4|61.35294117647059| 44.05882352941177|\n",
      "|    2|44.92307692307692|              33.0|\n",
      "|   12|44.57575757575758| 34.54545454545455|\n",
      "|    9| 74.6470588235294| 56.14705882352941|\n",
      "|    8|            79.42|             59.22|\n",
      "|    7|80.28846153846153| 57.53846153846154|\n",
      "|   10|59.93103448275862| 46.58620689655172|\n",
      "|   11|51.03225806451613|38.096774193548384|\n",
      "+-----+-----------------+------------------+\n",
      "\n"
     ]
    }
   ],
   "source": [
    "sunny_weather.withColumn('month', F.month(F.col('date'))).groupby(\n",
    "    'month').agg(\n",
    "    F.avg(sunny_weather.temp_max),F.avg(sunny_weather.temp_min)).show()"
   ]
  },
  {
   "cell_type": "code",
   "execution_count": null,
   "id": "5d026ef4-77ff-47de-b1af-a9a9663d8fc0",
   "metadata": {},
   "outputs": [],
   "source": [
    "# What percentage of days were rainy in q3 of 2015?\n"
   ]
  },
  {
   "cell_type": "code",
   "execution_count": 188,
   "id": "070d9179-afed-4456-b198-032d9c1421e7",
   "metadata": {},
   "outputs": [
    {
     "name": "stdout",
     "output_type": "stream",
     "text": [
      "+---------+\n",
      "|perc_rain|\n",
      "+---------+\n",
      "|     2.17|\n",
      "+---------+\n",
      "\n"
     ]
    }
   ],
   "source": [
    "weather.filter(\n",
    "    F.quarter(weather.date) == 3).filter(\n",
    "    F.year(weather.date) == 2015\n",
    ").select(\n",
    "    (F.when(weather.weather == 'rain', 1).otherwise(0)).alias('rain')\n",
    ").agg((F.round(F.mean('rain') * 100, 2)).alias('perc_rain')).show()"
   ]
  },
  {
   "cell_type": "code",
   "execution_count": null,
   "id": "fb45b176-d46c-49b4-ad9a-e282ab5d1571",
   "metadata": {},
   "outputs": [],
   "source": [
    "# For each year, find what percentage of days it rained (had non-zero precipitation)."
   ]
  },
  {
   "cell_type": "code",
   "execution_count": 187,
   "id": "9300cebd-f44e-4c68-821d-2cdfbe36ae8d",
   "metadata": {},
   "outputs": [
    {
     "name": "stderr",
     "output_type": "stream",
     "text": [
      "[Stage 157:>                                                        (0 + 8) / 8]\r"
     ]
    },
    {
     "name": "stdout",
     "output_type": "stream",
     "text": [
      "+----+--------------+\n",
      "|year|percent_precip|\n",
      "+----+--------------+\n",
      "|2012|         48.36|\n",
      "|2013|         41.64|\n",
      "|2014|          41.1|\n",
      "|2015|         39.45|\n",
      "+----+--------------+\n",
      "\n"
     ]
    },
    {
     "name": "stderr",
     "output_type": "stream",
     "text": [
      "                                                                                \r"
     ]
    }
   ],
   "source": [
    "# nonzero precipitation\n",
    "weather.withColumn(\n",
    "    'year',\n",
    "    F.year(weather.date)).withColumn(\n",
    "    'has_rained',\n",
    "    F.expr('precipitation > 0').cast('int')\n",
    ").groupby('year').agg(\n",
    "    F.round(F.avg('has_rained') * 100, 2).alias('percent_precip')\n",
    ").show()\n",
    "    "
   ]
  }
 ],
 "metadata": {
  "kernelspec": {
   "display_name": "Python 3 (ipykernel)",
   "language": "python",
   "name": "python3"
  },
  "language_info": {
   "codemirror_mode": {
    "name": "ipython",
    "version": 3
   },
   "file_extension": ".py",
   "mimetype": "text/x-python",
   "name": "python",
   "nbconvert_exporter": "python",
   "pygments_lexer": "ipython3",
   "version": "3.9.13"
  }
 },
 "nbformat": 4,
 "nbformat_minor": 5
}
